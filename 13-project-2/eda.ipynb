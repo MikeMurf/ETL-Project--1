{
 "cells": [
  {
   "cell_type": "code",
   "execution_count": 7,
   "id": "01510211",
   "metadata": {},
   "outputs": [],
   "source": [
    "#   import dependencies\n",
    "import matplotlib.pyplot as plt\n",
    "import pandas as pd\n",
    "import scipy.stats as st\n",
    "from scipy.stats import linregress\n",
    "from urllib.error import HTTPError\n",
    "import numpy as np\n",
    "import wget\n",
    "import time\n",
    "from datetime import datetime\n",
    "from pandas_profiling import ProfileReport"
   ]
  },
  {
   "cell_type": "code",
   "execution_count": 10,
   "id": "4b0104d1",
   "metadata": {},
   "outputs": [],
   "source": [
    "df = pd.read_csv('conf_df_sub.csv')"
   ]
  },
  {
   "cell_type": "code",
   "execution_count": 11,
   "id": "f5871a6d",
   "metadata": {},
   "outputs": [
    {
     "data": {
      "application/vnd.jupyter.widget-view+json": {
       "model_id": "1b7f503e3ffb40dd897f7c13841dfd2c",
       "version_major": 2,
       "version_minor": 0
      },
      "text/plain": [
       "Summarize dataset:   0%|          | 0/5 [00:00<?, ?it/s]"
      ]
     },
     "metadata": {},
     "output_type": "display_data"
    },
    {
     "data": {
      "application/vnd.jupyter.widget-view+json": {
       "model_id": "1e067456213b4f149c2f8b5fe509e9ba",
       "version_major": 2,
       "version_minor": 0
      },
      "text/plain": [
       "Generate report structure:   0%|          | 0/1 [00:00<?, ?it/s]"
      ]
     },
     "metadata": {},
     "output_type": "display_data"
    },
    {
     "data": {
      "application/vnd.jupyter.widget-view+json": {
       "model_id": "605aa38d62944c19be4bc3c1f62e6258",
       "version_major": 2,
       "version_minor": 0
      },
      "text/plain": [
       "Render HTML:   0%|          | 0/1 [00:00<?, ?it/s]"
      ]
     },
     "metadata": {},
     "output_type": "display_data"
    },
    {
     "data": {
      "application/vnd.jupyter.widget-view+json": {
       "model_id": "7904ea0e2519422ab363d33b1b931fa8",
       "version_major": 2,
       "version_minor": 0
      },
      "text/plain": [
       "Export report to file:   0%|          | 0/1 [00:00<?, ?it/s]"
      ]
     },
     "metadata": {},
     "output_type": "display_data"
    }
   ],
   "source": [
    "#   start exploratory data analysis\n",
    "prof = ProfileReport(df)\n",
    "prof.to_file(output_file='output_conf_sub.html')\n",
    "\n",
    "#   start exploratory data analysis\n",
    "#prof = ProfileReport(deaths_df)\n",
    "#prof.to_file(output_file='output_deaths.html')\n",
    "\n",
    "#   start exploratory data analysis\n",
    "#prof = ProfileReport(deaths_df)\n",
    "#prof.to_file(output_file='output_recvd.html')\n"
   ]
  },
  {
   "cell_type": "code",
   "execution_count": 12,
   "id": "0613ed1b",
   "metadata": {},
   "outputs": [],
   "source": [
    "df = pd.read_csv('conf_df.csv')"
   ]
  },
  {
   "cell_type": "code",
   "execution_count": null,
   "id": "bd9758bf",
   "metadata": {},
   "outputs": [
    {
     "data": {
      "application/vnd.jupyter.widget-view+json": {
       "model_id": "73fd9c9246ab48c7bbbf63f0b562b839",
       "version_major": 2,
       "version_minor": 0
      },
      "text/plain": [
       "Summarize dataset:   0%|          | 0/5 [00:00<?, ?it/s]"
      ]
     },
     "metadata": {},
     "output_type": "display_data"
    }
   ],
   "source": [
    "#   start exploratory data analysis\n",
    "prof = ProfileReport(df)\n",
    "prof.to_file(output_file='output_conf.html')"
   ]
  },
  {
   "cell_type": "code",
   "execution_count": null,
   "id": "9b4086d3",
   "metadata": {},
   "outputs": [],
   "source": []
  }
 ],
 "metadata": {
  "kernelspec": {
   "display_name": "Python 3 (ipykernel)",
   "language": "python",
   "name": "python3"
  },
  "language_info": {
   "codemirror_mode": {
    "name": "ipython",
    "version": 3
   },
   "file_extension": ".py",
   "mimetype": "text/x-python",
   "name": "python",
   "nbconvert_exporter": "python",
   "pygments_lexer": "ipython3",
   "version": "3.9.7"
  }
 },
 "nbformat": 4,
 "nbformat_minor": 5
}
