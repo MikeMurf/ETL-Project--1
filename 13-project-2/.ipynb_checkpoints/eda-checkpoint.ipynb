{
 "cells": [
  {
   "cell_type": "code",
   "execution_count": null,
   "id": "b09a6487",
   "metadata": {},
   "outputs": [],
   "source": [
    "#   start exploratory data analysis\n",
    "prof = ProfileReport(confirmed_df)\n",
    "prof.to_file(output_file='output_conf.html')\n",
    "\n",
    "#   start exploratory data analysis\n",
    "prof = ProfileReport(deaths_df)\n",
    "prof.to_file(output_file='output_deaths.html')\n",
    "\n",
    "#   start exploratory data analysis\n",
    "prof = ProfileReport(deaths_df)\n",
    "prof.to_file(output_file='output_recvd.html')\n"
   ]
  }
 ],
 "metadata": {
  "kernelspec": {
   "display_name": "Python 3 (ipykernel)",
   "language": "python",
   "name": "python3"
  },
  "language_info": {
   "codemirror_mode": {
    "name": "ipython",
    "version": 3
   },
   "file_extension": ".py",
   "mimetype": "text/x-python",
   "name": "python",
   "nbconvert_exporter": "python",
   "pygments_lexer": "ipython3",
   "version": "3.9.7"
  }
 },
 "nbformat": 4,
 "nbformat_minor": 5
}
